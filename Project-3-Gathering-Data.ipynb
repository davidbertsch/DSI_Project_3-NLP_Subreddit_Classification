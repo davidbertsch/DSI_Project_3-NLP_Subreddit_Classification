{
 "cells": [
  {
   "cell_type": "markdown",
   "metadata": {},
   "source": [
    "# Project 3\n",
    "# Using NLP to classify posts to one of two subreddits"
   ]
  },
  {
   "cell_type": "markdown",
   "metadata": {},
   "source": [
    "For this project, I am going to compare the Phish subreddit with the Grateful Dead subreddit. In this notebook, I'll scrape reddit using the pushshift API."
   ]
  },
  {
   "cell_type": "markdown",
   "metadata": {},
   "source": [
    "## Using the pushshift Reddit API to gather posts"
   ]
  },
  {
   "cell_type": "code",
   "execution_count": 1,
   "metadata": {},
   "outputs": [],
   "source": [
    "import pandas as pd\n",
    "import numpy as np\n",
    "import datetime as dt\n",
    "import time\n",
    "import requests\n",
    "import json"
   ]
  },
  {
   "cell_type": "markdown",
   "metadata": {},
   "source": [
    "I'll use the function that Brian showed us in class to scrape using the pushshift Reddit API."
   ]
  },
  {
   "cell_type": "code",
   "execution_count": 2,
   "metadata": {},
   "outputs": [],
   "source": [
    "def query_pushshift(subreddit, kind='submission', skip=30, times=25, \n",
    "                    subfield = ['title', 'selftext', 'subreddit', 'created_utc', 'author', 'num_comments', 'score', 'is_self'],\n",
    "                    comfields = ['body', 'score', 'created_utc']):\n",
    "\n",
    "    stem = \"https://api.pushshift.io/reddit/search/{}/?subreddit={}&size=500\".format(kind, subreddit)\n",
    "    mylist = []\n",
    "    \n",
    "    for x in range(1, times):\n",
    "        \n",
    "        URL = \"{}&after={}d\".format(stem, skip * x)\n",
    "        print(URL)\n",
    "        response = requests.get(URL)\n",
    "        assert response.status_code == 200\n",
    "        mine = response.json()['data']\n",
    "        df = pd.DataFrame(mine)\n",
    "        mylist.append(df)\n",
    "        time.sleep(2)\n",
    "        \n",
    "    full = pd.concat(mylist, sort=False)\n",
    "    \n",
    "    if kind == \"submission\":\n",
    "        \n",
    "        full = full[subfield]\n",
    "        \n",
    "        full = full.drop_duplicates()\n",
    "        \n",
    "        full = full.loc[full['is_self'] == True]\n",
    "        \n",
    "    def get_date(created):\n",
    "        return dt.date.fromtimestamp(created)\n",
    "    \n",
    "    _timestamp = full[\"created_utc\"].apply(get_date)\n",
    "    \n",
    "    full['timestamp'] = _timestamp\n",
    "\n",
    "    print(full.shape)\n",
    "    \n",
    "    return full"
   ]
  },
  {
   "cell_type": "markdown",
   "metadata": {},
   "source": [
    "Gathering the Dead data:"
   ]
  },
  {
   "cell_type": "code",
   "execution_count": 3,
   "metadata": {
    "scrolled": true
   },
   "outputs": [
    {
     "name": "stdout",
     "output_type": "stream",
     "text": [
      "https://api.pushshift.io/reddit/search/submission/?subreddit=gratefuldead&size=500&after=30d\n",
      "https://api.pushshift.io/reddit/search/submission/?subreddit=gratefuldead&size=500&after=60d\n",
      "https://api.pushshift.io/reddit/search/submission/?subreddit=gratefuldead&size=500&after=90d\n",
      "https://api.pushshift.io/reddit/search/submission/?subreddit=gratefuldead&size=500&after=120d\n",
      "https://api.pushshift.io/reddit/search/submission/?subreddit=gratefuldead&size=500&after=150d\n",
      "https://api.pushshift.io/reddit/search/submission/?subreddit=gratefuldead&size=500&after=180d\n",
      "https://api.pushshift.io/reddit/search/submission/?subreddit=gratefuldead&size=500&after=210d\n",
      "https://api.pushshift.io/reddit/search/submission/?subreddit=gratefuldead&size=500&after=240d\n",
      "https://api.pushshift.io/reddit/search/submission/?subreddit=gratefuldead&size=500&after=270d\n",
      "https://api.pushshift.io/reddit/search/submission/?subreddit=gratefuldead&size=500&after=300d\n",
      "https://api.pushshift.io/reddit/search/submission/?subreddit=gratefuldead&size=500&after=330d\n",
      "https://api.pushshift.io/reddit/search/submission/?subreddit=gratefuldead&size=500&after=360d\n",
      "https://api.pushshift.io/reddit/search/submission/?subreddit=gratefuldead&size=500&after=390d\n",
      "https://api.pushshift.io/reddit/search/submission/?subreddit=gratefuldead&size=500&after=420d\n",
      "https://api.pushshift.io/reddit/search/submission/?subreddit=gratefuldead&size=500&after=450d\n",
      "https://api.pushshift.io/reddit/search/submission/?subreddit=gratefuldead&size=500&after=480d\n",
      "https://api.pushshift.io/reddit/search/submission/?subreddit=gratefuldead&size=500&after=510d\n",
      "https://api.pushshift.io/reddit/search/submission/?subreddit=gratefuldead&size=500&after=540d\n",
      "https://api.pushshift.io/reddit/search/submission/?subreddit=gratefuldead&size=500&after=570d\n",
      "https://api.pushshift.io/reddit/search/submission/?subreddit=gratefuldead&size=500&after=600d\n",
      "https://api.pushshift.io/reddit/search/submission/?subreddit=gratefuldead&size=500&after=630d\n",
      "https://api.pushshift.io/reddit/search/submission/?subreddit=gratefuldead&size=500&after=660d\n",
      "https://api.pushshift.io/reddit/search/submission/?subreddit=gratefuldead&size=500&after=690d\n",
      "https://api.pushshift.io/reddit/search/submission/?subreddit=gratefuldead&size=500&after=720d\n",
      "(5874, 9)\n"
     ]
    }
   ],
   "source": [
    "dead = query_pushshift(\"gratefuldead\")"
   ]
  },
  {
   "cell_type": "markdown",
   "metadata": {},
   "source": [
    "Gathering the Phish data:"
   ]
  },
  {
   "cell_type": "code",
   "execution_count": 4,
   "metadata": {
    "scrolled": true
   },
   "outputs": [
    {
     "name": "stdout",
     "output_type": "stream",
     "text": [
      "https://api.pushshift.io/reddit/search/submission/?subreddit=phish&size=500&after=30d\n",
      "https://api.pushshift.io/reddit/search/submission/?subreddit=phish&size=500&after=60d\n",
      "https://api.pushshift.io/reddit/search/submission/?subreddit=phish&size=500&after=90d\n",
      "https://api.pushshift.io/reddit/search/submission/?subreddit=phish&size=500&after=120d\n",
      "https://api.pushshift.io/reddit/search/submission/?subreddit=phish&size=500&after=150d\n",
      "https://api.pushshift.io/reddit/search/submission/?subreddit=phish&size=500&after=180d\n",
      "https://api.pushshift.io/reddit/search/submission/?subreddit=phish&size=500&after=210d\n",
      "https://api.pushshift.io/reddit/search/submission/?subreddit=phish&size=500&after=240d\n",
      "https://api.pushshift.io/reddit/search/submission/?subreddit=phish&size=500&after=270d\n",
      "https://api.pushshift.io/reddit/search/submission/?subreddit=phish&size=500&after=300d\n",
      "https://api.pushshift.io/reddit/search/submission/?subreddit=phish&size=500&after=330d\n",
      "https://api.pushshift.io/reddit/search/submission/?subreddit=phish&size=500&after=360d\n",
      "https://api.pushshift.io/reddit/search/submission/?subreddit=phish&size=500&after=390d\n",
      "https://api.pushshift.io/reddit/search/submission/?subreddit=phish&size=500&after=420d\n",
      "https://api.pushshift.io/reddit/search/submission/?subreddit=phish&size=500&after=450d\n",
      "https://api.pushshift.io/reddit/search/submission/?subreddit=phish&size=500&after=480d\n",
      "https://api.pushshift.io/reddit/search/submission/?subreddit=phish&size=500&after=510d\n",
      "https://api.pushshift.io/reddit/search/submission/?subreddit=phish&size=500&after=540d\n",
      "https://api.pushshift.io/reddit/search/submission/?subreddit=phish&size=500&after=570d\n",
      "https://api.pushshift.io/reddit/search/submission/?subreddit=phish&size=500&after=600d\n",
      "https://api.pushshift.io/reddit/search/submission/?subreddit=phish&size=500&after=630d\n",
      "https://api.pushshift.io/reddit/search/submission/?subreddit=phish&size=500&after=660d\n",
      "https://api.pushshift.io/reddit/search/submission/?subreddit=phish&size=500&after=690d\n",
      "https://api.pushshift.io/reddit/search/submission/?subreddit=phish&size=500&after=720d\n",
      "(5784, 9)\n"
     ]
    }
   ],
   "source": [
    "phish = query_pushshift(\"phish\")"
   ]
  },
  {
   "cell_type": "code",
   "execution_count": 5,
   "metadata": {},
   "outputs": [
    {
     "data": {
      "text/plain": [
       "5874"
      ]
     },
     "execution_count": 5,
     "metadata": {},
     "output_type": "execute_result"
    }
   ],
   "source": [
    "len(dead)"
   ]
  },
  {
   "cell_type": "code",
   "execution_count": 6,
   "metadata": {},
   "outputs": [
    {
     "data": {
      "text/plain": [
       "5784"
      ]
     },
     "execution_count": 6,
     "metadata": {},
     "output_type": "execute_result"
    }
   ],
   "source": [
    "len(phish)"
   ]
  },
  {
   "cell_type": "markdown",
   "metadata": {},
   "source": [
    "These seem like well-sized, well-balanced datasets. I'll save these to csv files and proceed."
   ]
  },
  {
   "cell_type": "code",
   "execution_count": 7,
   "metadata": {},
   "outputs": [],
   "source": [
    "dead.reset_index(inplace=True, drop=True)\n",
    "phish.reset_index(inplace=True, drop=True)"
   ]
  },
  {
   "cell_type": "code",
   "execution_count": 8,
   "metadata": {},
   "outputs": [],
   "source": [
    "dead.to_csv(\"./dead.csv\", index=False)\n",
    "phish.to_csv(\"./phish.csv\", index=False)"
   ]
  }
 ],
 "metadata": {
  "kernelspec": {
   "display_name": "DSI",
   "language": "python",
   "name": "dsi"
  },
  "language_info": {
   "codemirror_mode": {
    "name": "ipython",
    "version": 3
   },
   "file_extension": ".py",
   "mimetype": "text/x-python",
   "name": "python",
   "nbconvert_exporter": "python",
   "pygments_lexer": "ipython3",
   "version": "3.6.8"
  }
 },
 "nbformat": 4,
 "nbformat_minor": 2
}
