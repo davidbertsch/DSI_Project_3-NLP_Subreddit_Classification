{
 "cells": [
  {
   "cell_type": "markdown",
   "metadata": {},
   "source": [
    "# Project 3\n",
    "# Using NLP to classify posts to one of two subreddits"
   ]
  },
  {
   "cell_type": "markdown",
   "metadata": {},
   "source": [
    "Initially, I'll build a simplistic logistic regression model. First, I'll split the data into a training set and a test set. I'll take the unedited text, fit/transform the count vectorizer to the training data, and transform the test data. Then, I'll run a logistic regression in order to generate predictions for the target. I'll assess the accuracy of the model on the training data and the testing data."
   ]
  },
  {
   "cell_type": "code",
   "execution_count": 1,
   "metadata": {},
   "outputs": [],
   "source": [
    "import pandas as pd\n",
    "import numpy as np\n",
    "\n",
    "from sklearn.feature_extraction.text import CountVectorizer, TfidfVectorizer\n",
    "from sklearn.pipeline import Pipeline\n",
    "from sklearn.model_selection import train_test_split, GridSearchCV\n",
    "from sklearn.linear_model import LogisticRegression\n",
    "import re\n",
    "\n",
    "import warnings\n",
    "warnings.filterwarnings('ignore')"
   ]
  },
  {
   "cell_type": "markdown",
   "metadata": {},
   "source": [
    "## Initial Model to Establish Baseline Performance"
   ]
  },
  {
   "cell_type": "code",
   "execution_count": 2,
   "metadata": {},
   "outputs": [
    {
     "name": "stdout",
     "output_type": "stream",
     "text": [
      "number of features: 23133\n",
      "\n",
      "training accuracy score: 0.9895916733386709\n",
      " testing accuracy score: 0.8929674099485421\n"
     ]
    }
   ],
   "source": [
    "jam = pd.read_csv(\"./jam0.csv\")\n",
    "\n",
    "X = jam[\"text\"]\n",
    "y = jam[\"subreddit\"]\n",
    "\n",
    "X_train, X_test, y_train, y_test = train_test_split(X,\n",
    "                                                    y,\n",
    "                                                    random_state = 42,\n",
    "                                                    stratify = y)\n",
    "\n",
    "cv = CountVectorizer()\n",
    "X_train_cv = cv.fit_transform(X_train)\n",
    "X_test_cv = cv.transform(X_test)\n",
    "\n",
    "lr = LogisticRegression()\n",
    "lr.fit(X_train_cv, y_train)\n",
    "\n",
    "print(f\"number of features: {len(cv.get_feature_names())}\")\n",
    "print(\"\")\n",
    "print(f\"\"\"training accuracy score: {lr.score(X_train_cv, y_train)}\n",
    " testing accuracy score: {lr.score(X_test_cv, y_test)}\"\"\")"
   ]
  },
  {
   "cell_type": "markdown",
   "metadata": {},
   "source": [
    "The model already performs fairly accurately without doing hardly anything to clean/organize the data. It will be interesting to see how much I can improve the performance by implementing techniques like lemmatization and TFIDF and tuning hyperparameters like stop words, max features, and ngram range. The variance of the model is high, so I will try to reduce the overfitness."
   ]
  },
  {
   "cell_type": "markdown",
   "metadata": {},
   "source": [
    "### Data Update: removed \"\\n\", \"[deleted]\", \"[removed]\""
   ]
  },
  {
   "cell_type": "code",
   "execution_count": 3,
   "metadata": {},
   "outputs": [
    {
     "name": "stdout",
     "output_type": "stream",
     "text": [
      "number of features: 23133\n",
      "\n",
      "training accuracy score: 0.989820427770788\n",
      " testing accuracy score: 0.8926243567753002\n"
     ]
    }
   ],
   "source": [
    "jam = pd.read_csv(\"./jam1.csv\")\n",
    "\n",
    "X = jam[\"text\"]\n",
    "y = jam[\"subreddit\"]\n",
    "\n",
    "X_train, X_test, y_train, y_test = train_test_split(X,\n",
    "                                                    y,\n",
    "                                                    random_state = 42,\n",
    "                                                    stratify = y)\n",
    "\n",
    "cv = CountVectorizer()\n",
    "X_train_cv = cv.fit_transform(X_train)\n",
    "X_test_cv = cv.transform(X_test)\n",
    "\n",
    "lr = LogisticRegression()\n",
    "lr.fit(X_train_cv, y_train)\n",
    "\n",
    "print(f\"number of features: {len(cv.get_feature_names())}\")\n",
    "print(\"\")\n",
    "print(f\"\"\"training accuracy score: {lr.score(X_train_cv, y_train)}\n",
    " testing accuracy score: {lr.score(X_test_cv, y_test)}\"\"\")"
   ]
  },
  {
   "cell_type": "markdown",
   "metadata": {},
   "source": [
    "This esesentially had no effect. Judging by the unchanged number of features, it's possible that these 3 substrings were already getting filtered out somehow."
   ]
  },
  {
   "cell_type": "markdown",
   "metadata": {},
   "source": [
    "### Data Update: removed urls\n"
   ]
  },
  {
   "cell_type": "code",
   "execution_count": 4,
   "metadata": {},
   "outputs": [
    {
     "name": "stdout",
     "output_type": "stream",
     "text": [
      "number of features: 20061\n",
      "\n",
      "training accuracy score: 0.9887859022771485\n",
      " testing accuracy score: 0.8850377487989018\n"
     ]
    }
   ],
   "source": [
    "jam = pd.read_csv(\"./jam2.csv\")\n",
    "\n",
    "X = jam[\"text\"]\n",
    "y = jam[\"subreddit\"]\n",
    "\n",
    "X_train, X_test, y_train, y_test = train_test_split(X,\n",
    "                                                    y,\n",
    "                                                    random_state = 42,\n",
    "                                                    stratify = y)\n",
    "\n",
    "cv = CountVectorizer()\n",
    "X_train_cv = cv.fit_transform(X_train)\n",
    "X_test_cv = cv.transform(X_test)\n",
    "\n",
    "lr = LogisticRegression()\n",
    "lr.fit(X_train_cv, y_train)\n",
    "\n",
    "print(f\"number of features: {len(cv.get_feature_names())}\")\n",
    "print(\"\")\n",
    "print(f\"\"\"training accuracy score: {lr.score(X_train_cv, y_train)}\n",
    " testing accuracy score: {lr.score(X_test_cv, y_test)}\"\"\")"
   ]
  },
  {
   "cell_type": "markdown",
   "metadata": {},
   "source": [
    "Interestingly, the above text cleaning steps didn't change the performance very much at all, and actually, removing the urls reduced the accuracy scores. Moving forward, I'll focus on lemmatizing/stemming and tuning hyperparameters. I'll also try other types of models."
   ]
  },
  {
   "cell_type": "markdown",
   "metadata": {},
   "source": [
    "### Data Update: Lemmatized Text"
   ]
  },
  {
   "cell_type": "code",
   "execution_count": 5,
   "metadata": {
    "scrolled": false
   },
   "outputs": [
    {
     "name": "stdout",
     "output_type": "stream",
     "text": [
      "number of features: 17960\n",
      "\n",
      "training accuracy score: 0.9878676891381482\n",
      " testing accuracy score: 0.8887744593202883\n"
     ]
    }
   ],
   "source": [
    "jam = pd.read_csv(\"./jam3.csv\")\n",
    "\n",
    "X = jam[\"text\"]\n",
    "y = jam[\"subreddit\"]\n",
    "\n",
    "X_train, X_test, y_train, y_test = train_test_split(X,\n",
    "                                                    y,\n",
    "                                                    random_state = 42,\n",
    "                                                    stratify = y)\n",
    "\n",
    "cv = CountVectorizer()\n",
    "X_train_cv = cv.fit_transform(X_train)\n",
    "X_test_cv = cv.transform(X_test)\n",
    "\n",
    "lr = LogisticRegression()\n",
    "lr.fit(X_train_cv, y_train)\n",
    "\n",
    "print(f\"number of features: {len(cv.get_feature_names())}\")\n",
    "print(\"\")\n",
    "print(f\"\"\"training accuracy score: {lr.score(X_train_cv, y_train)}\n",
    " testing accuracy score: {lr.score(X_test_cv, y_test)}\"\"\")"
   ]
  },
  {
   "cell_type": "markdown",
   "metadata": {},
   "source": [
    "Lemmatization boosted the model performance very slightly."
   ]
  },
  {
   "cell_type": "markdown",
   "metadata": {},
   "source": [
    "## Model Comparison and Hyperparameter Tuning"
   ]
  },
  {
   "cell_type": "markdown",
   "metadata": {},
   "source": [
    "For the next models, I'll use pipelines and gridsearching in order to find an optimum model. I'll try using the following models:\n",
    "- Logistic Regression\n",
    "- Naive Bayes\n",
    "- Support Vector Machines"
   ]
  },
  {
   "cell_type": "markdown",
   "metadata": {},
   "source": [
    "### Logistic Regression with Count Vectorizer"
   ]
  },
  {
   "cell_type": "code",
   "execution_count": 6,
   "metadata": {},
   "outputs": [
    {
     "data": {
      "text/plain": [
       "GridSearchCV(cv=5, error_score='raise-deprecating',\n",
       "       estimator=Pipeline(memory=None,\n",
       "     steps=[('cvec', CountVectorizer(analyzer='word', binary=False, decode_error='strict',\n",
       "        dtype=<class 'numpy.int64'>, encoding='utf-8', input='content',\n",
       "        lowercase=True, max_df=1.0, max_features=None, min_df=1,\n",
       "        ngram_range=(1, 1), preprocessor=None, stop_words=None,\n",
       "        strip...penalty='l2', random_state=None, solver='warn',\n",
       "          tol=0.0001, verbose=0, warm_start=False))]),\n",
       "       fit_params=None, iid='warn', n_jobs=None,\n",
       "       param_grid={'cvec__max_features': [None, 1000, 2000, 5000, 10000], 'cvec__ngram_range': [(1, 1), (1, 2)], 'cvec__stop_words': [None, 'english'], 'lr__C': [1, 10, 100, 0.1, 0.01]},\n",
       "       pre_dispatch='2*n_jobs', refit=True, return_train_score='warn',\n",
       "       scoring=None, verbose=0)"
      ]
     },
     "execution_count": 6,
     "metadata": {},
     "output_type": "execute_result"
    }
   ],
   "source": [
    "jam = pd.read_csv(\"./jam3.csv\")\n",
    "\n",
    "X = jam[\"text\"]\n",
    "y = jam[\"subreddit\"]\n",
    "\n",
    "X_train, X_test, y_train, y_test = train_test_split(X,\n",
    "                                                    y,\n",
    "                                                    random_state = 42,\n",
    "                                                    stratify = y)\n",
    "\n",
    "pipe_cv_lr = Pipeline([\n",
    "    (\"cvec\", CountVectorizer()),\n",
    "    (\"lr\",   LogisticRegression())\n",
    "])\n",
    "\n",
    "pipe_params = {\n",
    "    \"cvec__max_features\" : [None, 1_000, 2_000, 5_000, 10_000],\n",
    "    \"cvec__ngram_range\"  : [(1,1), (1,2)],\n",
    "    \"cvec__stop_words\"   : [None, \"english\"],\n",
    "    \"lr__C\"              : [1, 10, 100, 0.1, 0.01]\n",
    "}\n",
    "\n",
    "gs_cv_lr = GridSearchCV(pipe_cv_lr, param_grid=pipe_params, cv=5)\n",
    "gs_cv_lr.fit(X_train, y_train)"
   ]
  },
  {
   "cell_type": "code",
   "execution_count": 7,
   "metadata": {},
   "outputs": [
    {
     "data": {
      "text/plain": [
       "{'cvec__max_features': None,\n",
       " 'cvec__ngram_range': (1, 2),\n",
       " 'cvec__stop_words': 'english',\n",
       " 'lr__C': 1}"
      ]
     },
     "execution_count": 7,
     "metadata": {},
     "output_type": "execute_result"
    }
   ],
   "source": [
    "gs_cv_lr.best_params_"
   ]
  },
  {
   "cell_type": "code",
   "execution_count": 8,
   "metadata": {},
   "outputs": [
    {
     "data": {
      "text/plain": [
       "0.9986265308458281"
      ]
     },
     "execution_count": 8,
     "metadata": {},
     "output_type": "execute_result"
    }
   ],
   "source": [
    "gs_cv_lr.score(X_train, y_train)"
   ]
  },
  {
   "cell_type": "code",
   "execution_count": 9,
   "metadata": {},
   "outputs": [
    {
     "data": {
      "text/plain": [
       "0.8966700995537247"
      ]
     },
     "execution_count": 9,
     "metadata": {},
     "output_type": "execute_result"
    }
   ],
   "source": [
    "gs_cv_lr.score(X_test, y_test)"
   ]
  },
  {
   "cell_type": "markdown",
   "metadata": {},
   "source": [
    "This model is even more overfit than before. That makes sense, given that the gridsearch optimized to not limit the number of features and to include all 2 word sequences."
   ]
  },
  {
   "cell_type": "markdown",
   "metadata": {},
   "source": [
    "### Naive Bayes with Count Vectorizer"
   ]
  },
  {
   "cell_type": "code",
   "execution_count": 10,
   "metadata": {},
   "outputs": [],
   "source": [
    "from sklearn.naive_bayes import MultinomialNB"
   ]
  },
  {
   "cell_type": "code",
   "execution_count": 11,
   "metadata": {},
   "outputs": [
    {
     "data": {
      "text/plain": [
       "GridSearchCV(cv=5, error_score='raise-deprecating',\n",
       "       estimator=Pipeline(memory=None,\n",
       "     steps=[('cvec', CountVectorizer(analyzer='word', binary=False, decode_error='strict',\n",
       "        dtype=<class 'numpy.int64'>, encoding='utf-8', input='content',\n",
       "        lowercase=True, max_df=1.0, max_features=None, min_df=1,\n",
       "        ngram_range=(1, 1), preprocessor=None, stop_words=None,\n",
       "        strip_accents=None, token_pattern='(?u)\\\\b\\\\w\\\\w+\\\\b',\n",
       "        tokenizer=None, vocabulary=None)), ('nb', MultinomialNB(alpha=1.0, class_prior=None, fit_prior=True))]),\n",
       "       fit_params=None, iid='warn', n_jobs=None,\n",
       "       param_grid={'cvec__max_features': [None, 1000, 2000, 5000, 10000], 'cvec__ngram_range': [(1, 1), (1, 2)], 'cvec__stop_words': [None, 'english'], 'nb__alpha': [0, 1, 0.1, 0.5, 5]},\n",
       "       pre_dispatch='2*n_jobs', refit=True, return_train_score='warn',\n",
       "       scoring=None, verbose=0)"
      ]
     },
     "execution_count": 11,
     "metadata": {},
     "output_type": "execute_result"
    }
   ],
   "source": [
    "jam = pd.read_csv(\"./jam3.csv\")\n",
    "\n",
    "X = jam[\"text\"]\n",
    "y = jam[\"subreddit\"]\n",
    "\n",
    "X_train, X_test, y_train, y_test = train_test_split(X,\n",
    "                                                    y,\n",
    "                                                    random_state = 42,\n",
    "                                                    stratify = y)\n",
    "\n",
    "pipe_cv_nb = Pipeline([\n",
    "    (\"cvec\", CountVectorizer()),\n",
    "    (\"nb\",   MultinomialNB())\n",
    "])\n",
    "\n",
    "pipe_params = {\n",
    "    \"cvec__max_features\" : [None, 1_000, 2_000, 5_000, 10_000],\n",
    "    \"cvec__ngram_range\"  : [(1,1), (1,2)],\n",
    "    \"cvec__stop_words\"   : [None, \"english\"],\n",
    "    \"nb__alpha\"          : [0, 1, 0.1, 0.5, 5]\n",
    "}\n",
    "\n",
    "gs_cv_nb = GridSearchCV(pipe_cv_nb, param_grid=pipe_params, cv=5)\n",
    "gs_cv_nb.fit(X_train, y_train)"
   ]
  },
  {
   "cell_type": "code",
   "execution_count": 12,
   "metadata": {
    "scrolled": true
   },
   "outputs": [
    {
     "data": {
      "text/plain": [
       "{'cvec__max_features': None,\n",
       " 'cvec__ngram_range': (1, 2),\n",
       " 'cvec__stop_words': 'english',\n",
       " 'nb__alpha': 1}"
      ]
     },
     "execution_count": 12,
     "metadata": {},
     "output_type": "execute_result"
    }
   ],
   "source": [
    "gs_cv_nb.best_params_"
   ]
  },
  {
   "cell_type": "code",
   "execution_count": 13,
   "metadata": {},
   "outputs": [
    {
     "data": {
      "text/plain": [
       "0.9898134371065583"
      ]
     },
     "execution_count": 13,
     "metadata": {},
     "output_type": "execute_result"
    }
   ],
   "source": [
    "gs_cv_nb.score(X_train, y_train)"
   ]
  },
  {
   "cell_type": "code",
   "execution_count": 14,
   "metadata": {},
   "outputs": [
    {
     "data": {
      "text/plain": [
       "0.9028492962581531"
      ]
     },
     "execution_count": 14,
     "metadata": {},
     "output_type": "execute_result"
    }
   ],
   "source": [
    "gs_cv_nb.score(X_test, y_test)"
   ]
  },
  {
   "cell_type": "markdown",
   "metadata": {},
   "source": [
    "These scores are basically unchanged from what I've been getting with every model. The testing score improved very slightly."
   ]
  },
  {
   "cell_type": "markdown",
   "metadata": {},
   "source": [
    "### Logistic Regression with TF-IDF"
   ]
  },
  {
   "cell_type": "code",
   "execution_count": 15,
   "metadata": {},
   "outputs": [
    {
     "data": {
      "text/plain": [
       "GridSearchCV(cv=5, error_score='raise-deprecating',\n",
       "       estimator=Pipeline(memory=None,\n",
       "     steps=[('tvec', TfidfVectorizer(analyzer='word', binary=False, decode_error='strict',\n",
       "        dtype=<class 'numpy.float64'>, encoding='utf-8', input='content',\n",
       "        lowercase=True, max_df=1.0, max_features=None, min_df=1,\n",
       "        ngram_range=(1, 1), norm='l2', preprocessor=None, smooth_idf=True,\n",
       "...penalty='l2', random_state=None, solver='warn',\n",
       "          tol=0.0001, verbose=0, warm_start=False))]),\n",
       "       fit_params=None, iid='warn', n_jobs=None,\n",
       "       param_grid={'tvec__max_features': [None, 1000, 2000, 5000, 10000], 'tvec__ngram_range': [(1, 1), (1, 2)], 'tvec__stop_words': [None, 'english'], 'lr__C': [1, 10, 100, 0.1, 0.01]},\n",
       "       pre_dispatch='2*n_jobs', refit=True, return_train_score='warn',\n",
       "       scoring=None, verbose=0)"
      ]
     },
     "execution_count": 15,
     "metadata": {},
     "output_type": "execute_result"
    }
   ],
   "source": [
    "jam = pd.read_csv(\"./jam3.csv\")\n",
    "\n",
    "X = jam[\"text\"]\n",
    "y = jam[\"subreddit\"]\n",
    "\n",
    "X_train, X_test, y_train, y_test = train_test_split(X,\n",
    "                                                    y,\n",
    "                                                    random_state = 42,\n",
    "                                                    stratify = y)\n",
    "\n",
    "pipe_tv_lr = Pipeline([\n",
    "    (\"tvec\", TfidfVectorizer()),\n",
    "    (\"lr\",   LogisticRegression())\n",
    "])\n",
    "\n",
    "pipe_params = {\n",
    "    \"tvec__max_features\" : [None, 1_000, 2_000, 5_000, 10_000],\n",
    "    \"tvec__ngram_range\"  : [(1,1), (1,2)],\n",
    "    \"tvec__stop_words\"   : [None, \"english\"],\n",
    "    \"lr__C\"              : [1, 10, 100, 0.1, 0.01]\n",
    "}\n",
    "\n",
    "gs_tv_lr = GridSearchCV(pipe_tv_lr, param_grid=pipe_params, cv=5)\n",
    "gs_tv_lr.fit(X_train, y_train)"
   ]
  },
  {
   "cell_type": "code",
   "execution_count": 16,
   "metadata": {},
   "outputs": [
    {
     "data": {
      "text/plain": [
       "{'lr__C': 10,\n",
       " 'tvec__max_features': None,\n",
       " 'tvec__ngram_range': (1, 2),\n",
       " 'tvec__stop_words': 'english'}"
      ]
     },
     "execution_count": 16,
     "metadata": {},
     "output_type": "execute_result"
    }
   ],
   "source": [
    "gs_tv_lr.best_params_"
   ]
  },
  {
   "cell_type": "code",
   "execution_count": 17,
   "metadata": {},
   "outputs": [
    {
     "data": {
      "text/plain": [
       "0.9991988096600664"
      ]
     },
     "execution_count": 17,
     "metadata": {},
     "output_type": "execute_result"
    }
   ],
   "source": [
    "gs_tv_lr.score(X_train, y_train)"
   ]
  },
  {
   "cell_type": "code",
   "execution_count": 18,
   "metadata": {},
   "outputs": [
    {
     "data": {
      "text/plain": [
       "0.9035358736697563"
      ]
     },
     "execution_count": 18,
     "metadata": {},
     "output_type": "execute_result"
    }
   ],
   "source": [
    "gs_tv_lr.score(X_test, y_test)"
   ]
  },
  {
   "cell_type": "markdown",
   "metadata": {},
   "source": [
    "Again, the model is very overfit from inlcuding all features and 2 word sequences. "
   ]
  },
  {
   "cell_type": "markdown",
   "metadata": {},
   "source": [
    "### Naive Bayes with TF-IDF"
   ]
  },
  {
   "cell_type": "code",
   "execution_count": 19,
   "metadata": {},
   "outputs": [
    {
     "data": {
      "text/plain": [
       "GridSearchCV(cv=5, error_score='raise-deprecating',\n",
       "       estimator=Pipeline(memory=None,\n",
       "     steps=[('tvec', TfidfVectorizer(analyzer='word', binary=False, decode_error='strict',\n",
       "        dtype=<class 'numpy.float64'>, encoding='utf-8', input='content',\n",
       "        lowercase=True, max_df=1.0, max_features=None, min_df=1,\n",
       "        ngram_range=(1, 1), norm='l2', preprocessor=None, smooth_idf=True,\n",
       "...True,\n",
       "        vocabulary=None)), ('nb', MultinomialNB(alpha=1.0, class_prior=None, fit_prior=True))]),\n",
       "       fit_params=None, iid='warn', n_jobs=None,\n",
       "       param_grid={'tvec__max_features': [None, 1000, 2000, 5000, 10000], 'tvec__ngram_range': [(1, 1), (1, 2)], 'tvec__stop_words': [None, 'english'], 'nb__alpha': [0, 1, 0.1, 0.5, 5]},\n",
       "       pre_dispatch='2*n_jobs', refit=True, return_train_score='warn',\n",
       "       scoring=None, verbose=0)"
      ]
     },
     "execution_count": 19,
     "metadata": {},
     "output_type": "execute_result"
    }
   ],
   "source": [
    "jam = pd.read_csv(\"./jam3.csv\")\n",
    "\n",
    "X = jam[\"text\"]\n",
    "y = jam[\"subreddit\"]\n",
    "\n",
    "X_train, X_test, y_train, y_test = train_test_split(X,\n",
    "                                                    y,\n",
    "                                                    random_state = 42,\n",
    "                                                    stratify = y)\n",
    "\n",
    "pipe_tv_nb = Pipeline([\n",
    "    (\"tvec\", TfidfVectorizer()),\n",
    "    (\"nb\",   MultinomialNB())\n",
    "])\n",
    "\n",
    "pipe_params = {\n",
    "    \"tvec__max_features\" : [None, 1_000, 2_000, 5_000, 10_000],\n",
    "    \"tvec__ngram_range\"  : [(1,1), (1,2)],\n",
    "    \"tvec__stop_words\"   : [None, \"english\"],\n",
    "    \"nb__alpha\"          : [0, 1, 0.1, 0.5, 5]\n",
    "}\n",
    "\n",
    "gs_tv_nb = GridSearchCV(pipe_tv_nb, param_grid=pipe_params, cv=5)\n",
    "gs_tv_nb.fit(X_train, y_train)"
   ]
  },
  {
   "cell_type": "code",
   "execution_count": 23,
   "metadata": {},
   "outputs": [
    {
     "data": {
      "text/plain": [
       "{'nb__alpha': 0.5,\n",
       " 'tvec__max_features': None,\n",
       " 'tvec__ngram_range': (1, 2),\n",
       " 'tvec__stop_words': 'english'}"
      ]
     },
     "execution_count": 23,
     "metadata": {},
     "output_type": "execute_result"
    }
   ],
   "source": [
    "gs_tv_nb.best_params_"
   ]
  },
  {
   "cell_type": "code",
   "execution_count": 24,
   "metadata": {},
   "outputs": [
    {
     "data": {
      "text/plain": [
       "0.9947350349090077"
      ]
     },
     "execution_count": 24,
     "metadata": {},
     "output_type": "execute_result"
    }
   ],
   "source": [
    "gs_tv_nb.score(X_train, y_train)"
   ]
  },
  {
   "cell_type": "code",
   "execution_count": 25,
   "metadata": {},
   "outputs": [
    {
     "data": {
      "text/plain": [
       "0.8973566769653278"
      ]
     },
     "execution_count": 25,
     "metadata": {},
     "output_type": "execute_result"
    }
   ],
   "source": [
    "gs_tv_nb.score(X_test, y_test)"
   ]
  },
  {
   "cell_type": "markdown",
   "metadata": {},
   "source": [
    "There is only a small difference between the models that use count vectorizer and the models that use TF-IDF."
   ]
  },
  {
   "cell_type": "markdown",
   "metadata": {},
   "source": [
    "### Support Vector Machine with Count Vectorizer"
   ]
  },
  {
   "cell_type": "markdown",
   "metadata": {},
   "source": [
    "I'll now try support vector machines models and random forests models."
   ]
  },
  {
   "cell_type": "code",
   "execution_count": 26,
   "metadata": {},
   "outputs": [],
   "source": [
    "from sklearn import svm"
   ]
  },
  {
   "cell_type": "code",
   "execution_count": 28,
   "metadata": {},
   "outputs": [
    {
     "data": {
      "text/plain": [
       "GridSearchCV(cv=5, error_score='raise-deprecating',\n",
       "       estimator=Pipeline(memory=None,\n",
       "     steps=[('cvec', CountVectorizer(analyzer='word', binary=False, decode_error='strict',\n",
       "        dtype=<class 'numpy.int64'>, encoding='utf-8', input='content',\n",
       "        lowercase=True, max_df=1.0, max_features=None, min_df=1,\n",
       "        ngram_range=(1, 1), preprocessor=None, stop_words=None,\n",
       "        strip...f', max_iter=-1, probability=False, random_state=None,\n",
       "  shrinking=True, tol=0.001, verbose=False))]),\n",
       "       fit_params=None, iid='warn', n_jobs=None,\n",
       "       param_grid={'cvec__max_features': [None, 1000, 2000, 5000, 10000], 'cvec__ngram_range': [(1, 1), (1, 2)], 'cvec__stop_words': [None, 'english'], 'svc__C': [1, 0.1, 0.5, 10], 'svc__kernel': ['rbf', 'poly'], 'svc__gamma': ['auto', 'scale']},\n",
       "       pre_dispatch='2*n_jobs', refit=True, return_train_score='warn',\n",
       "       scoring=None, verbose=0)"
      ]
     },
     "execution_count": 28,
     "metadata": {},
     "output_type": "execute_result"
    }
   ],
   "source": [
    "jam = pd.read_csv(\"./jam3.csv\")\n",
    "\n",
    "X = jam[\"text\"]\n",
    "y = jam[\"subreddit\"]\n",
    "\n",
    "X_train, X_test, y_train, y_test = train_test_split(X,\n",
    "                                                    y,\n",
    "                                                    random_state = 42,\n",
    "                                                    stratify = y)\n",
    "\n",
    "pipe_cv_sv = Pipeline([\n",
    "    (\"cvec\", CountVectorizer()),\n",
    "    (\"svc\", svm.SVC())\n",
    "])\n",
    "\n",
    "pipe_params = {\n",
    "    \"cvec__max_features\" : [None, 1_000, 2_000, 5_000, 10_000],\n",
    "    \"cvec__ngram_range\"  : [(1,1), (1,2)],\n",
    "    \"cvec__stop_words\"   : [None, \"english\"],\n",
    "    \"svc__C\"             : [1, 0.1, 0.5, 10],\n",
    "    \"svc__kernel\"        : [\"rbf\", \"poly\"],\n",
    "    \"svc__gamma\"         : [\"auto\", \"scale\"]\n",
    "}\n",
    "\n",
    "gs_cv_sv = GridSearchCV(pipe_cv_sv, param_grid=pipe_params, cv=5)\n",
    "gs_cv_sv.fit(X_train, y_train)"
   ]
  },
  {
   "cell_type": "code",
   "execution_count": 29,
   "metadata": {},
   "outputs": [
    {
     "data": {
      "text/plain": [
       "{'cvec__max_features': 5000,\n",
       " 'cvec__ngram_range': (1, 1),\n",
       " 'cvec__stop_words': 'english',\n",
       " 'svc__C': 10,\n",
       " 'svc__gamma': 'scale',\n",
       " 'svc__kernel': 'rbf'}"
      ]
     },
     "execution_count": 29,
     "metadata": {},
     "output_type": "execute_result"
    }
   ],
   "source": [
    "gs_cv_sv.best_params_"
   ]
  },
  {
   "cell_type": "code",
   "execution_count": 30,
   "metadata": {},
   "outputs": [
    {
     "data": {
      "text/plain": [
       "0.9434588531532563"
      ]
     },
     "execution_count": 30,
     "metadata": {},
     "output_type": "execute_result"
    }
   ],
   "source": [
    "gs_cv_sv.score(X_train, y_train)"
   ]
  },
  {
   "cell_type": "code",
   "execution_count": 31,
   "metadata": {},
   "outputs": [
    {
     "data": {
      "text/plain": [
       "0.8918640576725025"
      ]
     },
     "execution_count": 31,
     "metadata": {},
     "output_type": "execute_result"
    }
   ],
   "source": [
    "gs_cv_sv.score(X_test, y_test)"
   ]
  },
  {
   "cell_type": "markdown",
   "metadata": {},
   "source": [
    "With about the same performance on unseen data as the previous models, this model has substantially lower variance. This is possibly a result of limiting the features to 5000."
   ]
  },
  {
   "cell_type": "markdown",
   "metadata": {},
   "source": [
    "### Random Forests with Count Vectorizer"
   ]
  },
  {
   "cell_type": "code",
   "execution_count": 33,
   "metadata": {},
   "outputs": [],
   "source": [
    "from sklearn.ensemble import RandomForestClassifier"
   ]
  },
  {
   "cell_type": "code",
   "execution_count": 35,
   "metadata": {},
   "outputs": [
    {
     "data": {
      "text/plain": [
       "GridSearchCV(cv=5, error_score='raise-deprecating',\n",
       "       estimator=Pipeline(memory=None,\n",
       "     steps=[('cvec', CountVectorizer(analyzer='word', binary=False, decode_error='strict',\n",
       "        dtype=<class 'numpy.int64'>, encoding='utf-8', input='content',\n",
       "        lowercase=True, max_df=1.0, max_features=None, min_df=1,\n",
       "        ngram_range=(1, 1), preprocessor=None, stop_words=None,\n",
       "        strip...obs=None,\n",
       "            oob_score=False, random_state=None, verbose=0,\n",
       "            warm_start=False))]),\n",
       "       fit_params=None, iid='warn', n_jobs=None,\n",
       "       param_grid={'cvec__max_features': [None, 1000, 2000, 5000, 10000], 'cvec__ngram_range': [(1, 1), (1, 2)], 'cvec__stop_words': [None, 'english'], 'rf__n_estimators': [75, 100, 125, 150], 'rf__max_depth': [3, 5, 8, 15], 'rf__min_samples_split': [3, 7, 13]},\n",
       "       pre_dispatch='2*n_jobs', refit=True, return_train_score='warn',\n",
       "       scoring=None, verbose=0)"
      ]
     },
     "execution_count": 35,
     "metadata": {},
     "output_type": "execute_result"
    }
   ],
   "source": [
    "jam = pd.read_csv(\"./jam3.csv\")\n",
    "\n",
    "X = jam[\"text\"]\n",
    "y = jam[\"subreddit\"]\n",
    "\n",
    "X_train, X_test, y_train, y_test = train_test_split(X,\n",
    "                                                    y,\n",
    "                                                    random_state = 42,\n",
    "                                                    stratify = y)\n",
    "\n",
    "pipe_cv_rf = Pipeline([\n",
    "    (\"cvec\", CountVectorizer()),\n",
    "    (\"rf\", RandomForestClassifier())\n",
    "])\n",
    "\n",
    "pipe_params = {\n",
    "    \"cvec__max_features\"    : [None, 1_000, 2_000, 5_000, 10_000],\n",
    "    \"cvec__ngram_range\"     : [(1,1), (1,2)],\n",
    "    \"cvec__stop_words\"      : [None, \"english\"],\n",
    "    \"rf__n_estimators\"      : [75, 100, 125, 150],\n",
    "    \"rf__max_depth\"         : [3, 5, 8, 15],\n",
    "    \"rf__min_samples_split\" : [3, 7, 13]\n",
    "}\n",
    "\n",
    "gs_cv_rf = GridSearchCV(pipe_cv_rf, param_grid=pipe_params, cv=5)\n",
    "gs_cv_rf.fit(X_train, y_train)"
   ]
  },
  {
   "cell_type": "code",
   "execution_count": 36,
   "metadata": {},
   "outputs": [
    {
     "data": {
      "text/plain": [
       "{'cvec__max_features': None,\n",
       " 'cvec__ngram_range': (1, 2),\n",
       " 'cvec__stop_words': 'english',\n",
       " 'rf__max_depth': 15,\n",
       " 'rf__min_samples_split': 13,\n",
       " 'rf__n_estimators': 125}"
      ]
     },
     "execution_count": 36,
     "metadata": {},
     "output_type": "execute_result"
    }
   ],
   "source": [
    "gs_cv_rf.best_params_"
   ]
  },
  {
   "cell_type": "code",
   "execution_count": 37,
   "metadata": {},
   "outputs": [
    {
     "data": {
      "text/plain": [
       "0.9011102208996223"
      ]
     },
     "execution_count": 37,
     "metadata": {},
     "output_type": "execute_result"
    }
   ],
   "source": [
    "gs_cv_rf.score(X_train, y_train)"
   ]
  },
  {
   "cell_type": "code",
   "execution_count": 38,
   "metadata": {},
   "outputs": [
    {
     "data": {
      "text/plain": [
       "0.8637143837967731"
      ]
     },
     "execution_count": 38,
     "metadata": {},
     "output_type": "execute_result"
    }
   ],
   "source": [
    "gs_cv_rf.score(X_test, y_test)"
   ]
  },
  {
   "cell_type": "markdown",
   "metadata": {},
   "source": [
    "This model also has lower variance than the first few models, but it sacrifices substantial accuracy overall compared to the SVM model."
   ]
  },
  {
   "cell_type": "markdown",
   "metadata": {},
   "source": [
    "### Support Vector Machine with TF-IDF"
   ]
  },
  {
   "cell_type": "code",
   "execution_count": 40,
   "metadata": {},
   "outputs": [
    {
     "data": {
      "text/plain": [
       "GridSearchCV(cv=5, error_score='raise-deprecating',\n",
       "       estimator=Pipeline(memory=None,\n",
       "     steps=[('tvec', TfidfVectorizer(analyzer='word', binary=False, decode_error='strict',\n",
       "        dtype=<class 'numpy.float64'>, encoding='utf-8', input='content',\n",
       "        lowercase=True, max_df=1.0, max_features=None, min_df=1,\n",
       "        ngram_range=(1, 1), norm='l2', preprocessor=None, smooth_idf=True,\n",
       "...f', max_iter=-1, probability=False, random_state=None,\n",
       "  shrinking=True, tol=0.001, verbose=False))]),\n",
       "       fit_params=None, iid='warn', n_jobs=None,\n",
       "       param_grid={'tvec__max_features': [None, 5000], 'tvec__ngram_range': [(1, 1), (1, 2)], 'tvec__stop_words': [None, 'english'], 'svc__C': [1, 0.1, 10], 'svc__kernel': ['rbf'], 'svc__gamma': ['auto', 'scale']},\n",
       "       pre_dispatch='2*n_jobs', refit=True, return_train_score='warn',\n",
       "       scoring=None, verbose=0)"
      ]
     },
     "execution_count": 40,
     "metadata": {},
     "output_type": "execute_result"
    }
   ],
   "source": [
    "jam = pd.read_csv(\"./jam3.csv\")\n",
    "\n",
    "X = jam[\"text\"]\n",
    "y = jam[\"subreddit\"]\n",
    "\n",
    "X_train, X_test, y_train, y_test = train_test_split(X,\n",
    "                                                    y,\n",
    "                                                    random_state = 42,\n",
    "                                                    stratify = y)\n",
    "\n",
    "pipe_tv_sv = Pipeline([\n",
    "    (\"tvec\", TfidfVectorizer()),\n",
    "    (\"svc\", svm.SVC())\n",
    "])\n",
    "\n",
    "pipe_params = {\n",
    "    \"tvec__max_features\"    : [None, 5_000],\n",
    "    \"tvec__ngram_range\"     : [(1,1), (1,2)],\n",
    "    \"tvec__stop_words\"      : [None, \"english\"],\n",
    "    \"svc__C\"                : [1, 0.1, 10],\n",
    "    \"svc__kernel\"           : [\"rbf\"],\n",
    "    \"svc__gamma\"            : [\"auto\", \"scale\"]\n",
    "}\n",
    "\n",
    "gs_tv_sv = GridSearchCV(pipe_tv_sv, param_grid=pipe_params, cv=5)\n",
    "gs_tv_sv.fit(X_train, y_train)"
   ]
  },
  {
   "cell_type": "code",
   "execution_count": 41,
   "metadata": {},
   "outputs": [
    {
     "data": {
      "text/plain": [
       "{'svc__C': 10,\n",
       " 'svc__gamma': 'scale',\n",
       " 'svc__kernel': 'rbf',\n",
       " 'tvec__max_features': 5000,\n",
       " 'tvec__ngram_range': (1, 1),\n",
       " 'tvec__stop_words': 'english'}"
      ]
     },
     "execution_count": 41,
     "metadata": {},
     "output_type": "execute_result"
    }
   ],
   "source": [
    "gs_tv_sv.best_params_"
   ]
  },
  {
   "cell_type": "code",
   "execution_count": 42,
   "metadata": {},
   "outputs": [
    {
     "data": {
      "text/plain": [
       "0.9442600434931899"
      ]
     },
     "execution_count": 42,
     "metadata": {},
     "output_type": "execute_result"
    }
   ],
   "source": [
    "gs_tv_sv.score(X_train, y_train)"
   ]
  },
  {
   "cell_type": "code",
   "execution_count": 43,
   "metadata": {},
   "outputs": [
    {
     "data": {
      "text/plain": [
       "0.8959835221421215"
      ]
     },
     "execution_count": 43,
     "metadata": {},
     "output_type": "execute_result"
    }
   ],
   "source": [
    "gs_tv_sv.score(X_test, y_test)"
   ]
  },
  {
   "cell_type": "markdown",
   "metadata": {},
   "source": [
    "This model has a slight performance boost over the SVM/CountVectorizer model."
   ]
  },
  {
   "cell_type": "markdown",
   "metadata": {},
   "source": [
    "### Random Forests with TFI-DF"
   ]
  },
  {
   "cell_type": "code",
   "execution_count": 48,
   "metadata": {},
   "outputs": [
    {
     "data": {
      "text/plain": [
       "GridSearchCV(cv=5, error_score='raise-deprecating',\n",
       "       estimator=Pipeline(memory=None,\n",
       "     steps=[('tvec', TfidfVectorizer(analyzer='word', binary=False, decode_error='strict',\n",
       "        dtype=<class 'numpy.float64'>, encoding='utf-8', input='content',\n",
       "        lowercase=True, max_df=1.0, max_features=None, min_df=1,\n",
       "        ngram_range=(1, 1), norm='l2', preprocessor=None, smooth_idf=True,\n",
       "...obs=None,\n",
       "            oob_score=False, random_state=None, verbose=0,\n",
       "            warm_start=False))]),\n",
       "       fit_params=None, iid='warn', n_jobs=None,\n",
       "       param_grid={'tvec__max_features': [None, 5000], 'tvec__ngram_range': [(1, 1), (1, 2)], 'tvec__stop_words': [None, 'english'], 'rf__n_estimators': [125], 'rf__max_depth': [25, 35], 'rf__min_samples_split': [17, 23]},\n",
       "       pre_dispatch='2*n_jobs', refit=True, return_train_score='warn',\n",
       "       scoring=None, verbose=0)"
      ]
     },
     "execution_count": 48,
     "metadata": {},
     "output_type": "execute_result"
    }
   ],
   "source": [
    "jam = pd.read_csv(\"./jam3.csv\")\n",
    "\n",
    "X = jam[\"text\"]\n",
    "y = jam[\"subreddit\"]\n",
    "\n",
    "X_train, X_test, y_train, y_test = train_test_split(X,\n",
    "                                                    y,\n",
    "                                                    random_state = 42,\n",
    "                                                    stratify = y)\n",
    "\n",
    "pipe_tv_rf = Pipeline([\n",
    "    (\"tvec\", TfidfVectorizer()),\n",
    "    (\"rf\", RandomForestClassifier())\n",
    "])\n",
    "\n",
    "pipe_params = {\n",
    "    \"tvec__max_features\"    : [None, 5_000],\n",
    "    \"tvec__ngram_range\"     : [(1,1), (1,2)],\n",
    "    \"tvec__stop_words\"      : [None, \"english\"],\n",
    "    \"rf__n_estimators\"      : [125],\n",
    "    \"rf__max_depth\"         : [25, 35],\n",
    "    \"rf__min_samples_split\" : [17, 23]\n",
    "}\n",
    "\n",
    "gs_tv_rf = GridSearchCV(pipe_tv_rf, param_grid=pipe_params, cv=5)\n",
    "gs_tv_rf.fit(X_train, y_train)"
   ]
  },
  {
   "cell_type": "code",
   "execution_count": 49,
   "metadata": {},
   "outputs": [
    {
     "data": {
      "text/plain": [
       "{'rf__max_depth': 25,\n",
       " 'rf__min_samples_split': 17,\n",
       " 'rf__n_estimators': 125,\n",
       " 'tvec__max_features': None,\n",
       " 'tvec__ngram_range': (1, 1),\n",
       " 'tvec__stop_words': 'english'}"
      ]
     },
     "execution_count": 49,
     "metadata": {},
     "output_type": "execute_result"
    }
   ],
   "source": [
    "gs_tv_rf.best_params_"
   ]
  },
  {
   "cell_type": "code",
   "execution_count": 50,
   "metadata": {},
   "outputs": [
    {
     "data": {
      "text/plain": [
       "0.9298386173743848"
      ]
     },
     "execution_count": 50,
     "metadata": {},
     "output_type": "execute_result"
    }
   ],
   "source": [
    "gs_tv_rf.score(X_train, y_train)"
   ]
  },
  {
   "cell_type": "code",
   "execution_count": 51,
   "metadata": {},
   "outputs": [
    {
     "data": {
      "text/plain": [
       "0.8805355303810505"
      ]
     },
     "execution_count": 51,
     "metadata": {},
     "output_type": "execute_result"
    }
   ],
   "source": [
    "gs_tv_rf.score(X_test, y_test)"
   ]
  },
  {
   "cell_type": "markdown",
   "metadata": {},
   "source": [
    "This model has about the same level of overfitness as the SVM models, but it has higher bias. It seems that the SVM model with TF-IDF vectorization will be the best one to use for this analysis. "
   ]
  }
 ],
 "metadata": {
  "kernelspec": {
   "display_name": "DSI",
   "language": "python",
   "name": "dsi"
  },
  "language_info": {
   "codemirror_mode": {
    "name": "ipython",
    "version": 3
   },
   "file_extension": ".py",
   "mimetype": "text/x-python",
   "name": "python",
   "nbconvert_exporter": "python",
   "pygments_lexer": "ipython3",
   "version": "3.6.8"
  }
 },
 "nbformat": 4,
 "nbformat_minor": 2
}
